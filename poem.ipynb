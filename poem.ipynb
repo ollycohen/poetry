{
 "cells": [
  {
   "cell_type": "code",
   "execution_count": 9,
   "metadata": {},
   "outputs": [],
   "source": [
    "import nltk, random\n",
    "nltk.download('punkt')\n",
    "nltk.download('averaged_perceptron_tagger')\n",
    "import numpy as np\n",
    "def found_poem(input_poem):\n",
    "    input_poem = input_poem.replace(\"''\",\"\")\n",
    "    input_poem = input_poem.replace(\"\\n\", \"\")\n",
    "    tkn_poem = nltk.word_tokenize(input_poem)\n",
    "    tkn_poem = nltk.pos_tag(tkn_poem)\n",
    "    tkn_poem = np.array(tkn_poem)\n",
    "    size = len(tkn_poem[:,0])\n",
    "    start_tag = random.randint(0,int(size/2))\n",
    "#     end_tag = random.randint(int(size/2),size)\n",
    "    end_tag = start_tag + 300\n",
    "    ordered_tags = tkn_poem[start_tag:end_tag,1]\n",
    "    ordered_tags = list(filter(lambda tag: tag != ''' '' '''and tag != \"'\" and  tag != ''and tag != ',' and tag != '.' and tag != ';' and tag != ':' and tag != '(' and tag != ')' and tag != '$' and tag != '#' and tag != \"'\" and tag != \"``\", ordered_tags))\n",
    "    unique_tags = tkn_poem[:,1]\n",
    "    unique_tags = np.unique(unique_tags)\n",
    "    unique_tags = unique_tags[5:len(unique_tags)]\n",
    "    words = tkn_poem[:,0]\n",
    "    \n",
    "    # Make a dictionary with tags as keys and words for each tag as values\n",
    "    words_by_tag = {}\n",
    "    for i in range(len(unique_tags)):\n",
    "        tag = unique_tags[i]\n",
    "        tag_array = tkn_poem[tkn_poem[:,1]==tag][:,0]\n",
    "        words_by_tag[tag] = tag_array\n",
    "\n",
    "    #Convert values from array of words to 2D array of words and probability of those words appearing\n",
    "    for tag in words_by_tag:  \n",
    "        (unique, counts) = np.unique(words_by_tag[tag],return_counts=True)\n",
    "        word_frequencies = np.array((unique,counts)).T\n",
    "        word_frequencies = word_frequencies[1:np.shape(word_frequencies)[0],:]\n",
    "        word_count = np.sum(word_frequencies[:,1].astype(np.float))\n",
    "        word_frequencies[:,1] = word_frequencies[:,1].astype(np.float)/word_count\n",
    "        words_by_tag[tag] = np.array(word_frequencies)\n",
    "\n",
    "    ## Make array of words based on the ordered tags. \n",
    "    ## Select each word based on probability of the word for that tag\n",
    "    output_poem = []\n",
    "    for tag in ordered_tags:\n",
    "        try:\n",
    "            words = words_by_tag[tag][:,0]\n",
    "            weights = words_by_tag[tag][:,1]\n",
    "            if len(words) != 0:\n",
    "                output_poem.append(random.choices(words,weights.astype(np.float),k=1)[0])\n",
    "        except KeyError:\n",
    "            continue\n",
    "\n",
    "    output_poem = ' '.join(output_poem)\n",
    "    line_break = 10\n",
    "    for i in range(len(output_poem)):\n",
    "        if i == line_break:\n",
    "            output_poem[i]+'\\n'\n",
    "            line_break+=10\n",
    "    return output_poem\n",
    "\n",
    "\n",
    "## How to write a poem ##\n",
    "## Take a poem, or two, or three ##\n",
    "### Convert it to a list of words ##\n",
    "### Get the probability of each word appearing ##\n",
    "### Remove duplicates from the list ###\n",
    "#######################################\n",
    "###What I want to do ###\n",
    "### Pick words based on popularity ###\n",
    "### control sentence structure based on word type (verb, preposition,noun,adjective, article, etc)###\n",
    "### add rhyme ###"
   ]
  },
  {
   "cell_type": "code",
   "execution_count": 10,
   "metadata": {},
   "outputs": [],
   "source": [
    "# ## This function creates a random poem based on probability of inputs \n",
    "# def probability_poem(input_poem):\n",
    "#     poem_np = np.array(input_poem)\n",
    "#     (unique, counts) = np.unique(poem_np,return_counts=True)\n",
    "#     word_frequencies = np.array((unique,counts)).T\n",
    "#     word_frequencies = word_frequencies[1:np.shape(word_frequencies)[0],:]\n",
    "#     word_count = np.sum(word_frequencies[:,1].astype(np.float))\n",
    "#     word_frequencies[:,1] = word_frequencies[:,1].astype(np.float)/word_count\n",
    "#     prob_of_each_word = word_frequencies[:,1].astype(np.float)\n",
    "#     poem = np.random.choice(word_frequencies[:,0],14*14,p=word_frequencies[:,1].astype(float))\n",
    "#     return poem"
   ]
  },
  {
   "cell_type": "code",
   "execution_count": 11,
   "metadata": {},
   "outputs": [],
   "source": [
    "# # legal_contract = open(\"assetPurchaseAgreement.txt\",'r').read()\n",
    "# # emily_dickinson = open(\"dickinson.txt\",'r').read()\n",
    "# diary = open(\"natalie.txt\", 'r').read()\n",
    "# problems_of_philosophy = open(\"bertrand.txt\",'r').read()\n",
    "# input_poem = diary + problems_of_philosophy\n",
    "# found_poem(input_poem);"
   ]
  },
  {
   "cell_type": "code",
   "execution_count": 12,
   "metadata": {},
   "outputs": [],
   "source": [
    "from fastai.vision.widgets import *\n",
    "input_poem = widgets.Textarea(placeholder=\"Put something here\", description=\"Input Poem:\")\n",
    "btn_run = widgets.Button(description=\"Make New Poem\")\n",
    "out_pl = widgets.Output(layout={'border': '1px solid black'})\n",
    "output_poem_lbl = widgets.Label() \n",
    "def on_click_poem(change):\n",
    "    input_value = input_poem.value\n",
    "    the_poem = found_poem(input_value)\n",
    "    out_pl.clear_output()\n",
    "    with out_pl: print(the_poem)    \n",
    "btn_run.on_click(on_click_poem)"
   ]
  },
  {
   "cell_type": "code",
   "execution_count": 13,
   "metadata": {},
   "outputs": [
    {
     "data": {
      "application/vnd.jupyter.widget-view+json": {
       "model_id": "314fd6907a154402b2077f132ab48005",
       "version_major": 2,
       "version_minor": 0
      },
      "text/plain": [
       "VBox(children=(Label(value='Generate your poem'), Textarea(value='', description='Input Poem:', placeholder='P…"
      ]
     },
     "metadata": {},
     "output_type": "display_data"
    }
   ],
   "source": [
    "VBox([widgets.Label('Generate your poem'), input_poem, btn_run, out_pl])"
   ]
  },
  {
   "cell_type": "code",
   "execution_count": null,
   "metadata": {},
   "outputs": [],
   "source": []
  }
 ],
 "metadata": {
  "kernelspec": {
   "display_name": "Python 3",
   "language": "python",
   "name": "python3"
  },
  "language_info": {
   "codemirror_mode": {
    "name": "ipython",
    "version": 3
   },
   "file_extension": ".py",
   "mimetype": "text/x-python",
   "name": "python",
   "nbconvert_exporter": "python",
   "pygments_lexer": "ipython3",
   "version": "3.7.6"
  }
 },
 "nbformat": 4,
 "nbformat_minor": 4
}