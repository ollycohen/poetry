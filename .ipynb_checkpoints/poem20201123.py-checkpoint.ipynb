{
 "cells": [
  {
   "cell_type": "code",
   "execution_count": 109,
   "metadata": {},
   "outputs": [
    {
     "name": "stderr",
     "output_type": "stream",
     "text": [
      "[nltk_data] Downloading package punkt to\n",
      "[nltk_data]     /Users/oliverkcohen/nltk_data...\n",
      "[nltk_data]   Package punkt is already up-to-date!\n",
      "[nltk_data] Downloading package averaged_perceptron_tagger to\n",
      "[nltk_data]     /Users/oliverkcohen/nltk_data...\n",
      "[nltk_data]   Unzipping taggers/averaged_perceptron_tagger.zip.\n"
     ]
    },
    {
     "data": {
      "text/plain": [
       "True"
      ]
     },
     "execution_count": 109,
     "metadata": {},
     "output_type": "execute_result"
    }
   ],
   "source": [
    "import numpy as np, nltk\n",
    "nltk.download('punkt')\n",
    "nltk.download('averaged_perceptron_tagger')"
   ]
  },
  {
   "cell_type": "code",
   "execution_count": 111,
   "metadata": {},
   "outputs": [
    {
     "name": "stdout",
     "output_type": "stream",
     "text": [
      "[('Last', 'JJ'), ('night', 'NN'), (',', ','), ('as', 'IN'), ('half', 'JJ'), ('asleep', 'JJ'), ('I', 'PRP'), ('dreaming', 'VBG'), ('lay', 'NN'), (',', ','), ('Half', 'NNP'), ('naked', 'VBD'), ('came', 'VBD'), ('she', 'PRP'), ('in', 'IN'), ('her', 'PRP$'), ('little', 'JJ'), ('shift', 'NN'), (',', ','), ('With', 'IN'), ('tilted', 'JJ'), ('glass', 'NN'), (',', ','), ('and', 'CC'), ('verses', 'NNS'), ('on', 'IN'), ('her', 'PRP$'), ('lips', 'NNS'), (';', ':'), ('Narcissus-eyes', 'NNP'), ('all', 'DT'), ('shining', 'VBG'), ('for', 'IN'), ('the', 'DT'), ('fray', 'NN'), (',', ','), ('Filled', 'NNP'), ('full', 'JJ'), ('of', 'IN'), ('frolic', 'JJ'), ('to', 'TO'), ('her', 'PRP$'), ('wine-red', 'JJ'), ('lips', 'NNS'), (',', ','), ('Warm', 'NNP'), ('as', 'IN'), ('a', 'DT'), ('dewy', 'NN'), ('rose', 'VBD'), (',', ','), ('sudden', 'JJ'), ('she', 'PRP'), ('slips', 'VBZ'), ('Into', 'NNP'), ('my', 'PRP$'), ('bed', 'NN'), ('–', 'NN'), ('just', 'RB'), ('in', 'IN'), ('her', 'PRP$'), ('little', 'JJ'), ('shift', 'NN'), ('.', '.'), ('Said', 'NNP'), ('she', 'PRP'), (',', ','), ('half', 'NN'), ('naked', 'VBD'), (',', ','), ('half', 'JJ'), ('asleep', 'NN'), (',', ','), ('half', 'NN'), ('heard', 'NN'), (',', ','), ('With', 'IN'), ('a', 'DT'), ('soft', 'JJ'), ('sigh', 'JJ'), ('betwixt', 'NN'), ('each', 'DT'), ('lazy', 'NN'), ('word', 'NN'), (',', ','), ('‘', 'NNP'), ('Oh', 'NNP'), ('my', 'PRP$'), ('old', 'JJ'), ('lover', 'NN'), (',', ','), ('do', 'VBP'), ('you', 'PRP'), ('sleep', 'VB'), ('or', 'CC'), ('wake', 'VB'), ('!', '.'), ('’', 'NN'), ('And', 'CC'), ('instant', 'NN'), ('I', 'PRP'), ('sat', 'VBD'), ('upright', 'NN'), ('for', 'IN'), ('her', 'PRP$'), ('sake', 'NN'), (',', ','), ('And', 'CC'), ('drank', 'VB'), ('whatever', 'WDT'), ('wine', 'NN'), ('she', 'PRP'), ('poured', 'VBD'), ('for', 'IN'), ('me', 'PRP'), ('–', 'JJ'), ('Wine', 'NNP'), ('of', 'IN'), ('the', 'DT'), ('tavern', 'JJ'), (',', ','), ('or', 'CC'), ('vintage', 'VB'), ('it', 'PRP'), ('might', 'MD'), ('be', 'VB'), ('Of', 'IN'), ('Heaven', 'NNP'), ('’', 'NNP'), ('s', 'VBD'), ('own', 'JJ'), ('vine', 'NN'), (':', ':'), ('he', 'PRP'), ('surely', 'RB'), ('were', 'VBD'), ('a', 'DT'), ('churl', 'NN'), ('Who', 'NNP'), ('refused', 'VBD'), ('wine', 'NN'), ('poured', 'VBN'), ('out', 'RP'), ('by', 'IN'), ('such', 'PDT'), ('a', 'DT'), ('girl', 'NN'), (',', ','), ('A', 'NNP'), ('double', 'JJ'), ('traitor', 'NN'), ('he', 'PRP'), ('to', 'TO'), ('wine', 'VB'), ('and', 'CC'), ('love', 'VB'), ('.', '.'), ('Go', 'VB'), ('to', 'TO'), (',', ','), ('thou', 'JJ'), ('puritan', 'NN'), ('!', '.'), ('the', 'DT'), ('gods', 'NNS'), ('above', 'RB'), ('Ordained', 'VBD'), ('this', 'DT'), ('wine', 'NN'), ('for', 'IN'), ('us', 'PRP'), (',', ','), ('but', 'CC'), ('not', 'RB'), ('for', 'IN'), ('thee', 'NN'), (';', ':'), ('Drunkards', 'NNP'), ('we', 'PRP'), ('are', 'VBP'), ('by', 'IN'), ('a', 'DT'), ('divine', 'NN'), ('decree', 'NN'), (',', ','), ('Yea', 'NNP'), (',', ','), ('by', 'IN'), ('the', 'DT'), ('special', 'JJ'), ('privilege', 'NN'), ('of', 'IN'), ('heaven', 'NN'), ('Foredoomed', 'NNP'), ('to', 'TO'), ('drink', 'VB'), ('and', 'CC'), ('foreordained', 'VBD'), ('forgiven', 'RB'), ('.', '.'), ('Ah', 'UH'), ('!', '.'), ('HAFIZ', 'NNP'), (',', ','), ('you', 'PRP'), ('are', 'VBP'), ('not', 'RB'), ('the', 'DT'), ('only', 'JJ'), ('man', 'NN'), ('Who', 'WP'), ('promised', 'VBD'), ('penitence', 'NN'), ('and', 'CC'), ('broke', 'VBD'), ('down', 'RB'), ('after', 'IN'), (';', ':'), ('For', 'IN'), ('who', 'WP'), ('can', 'MD'), ('keep', 'VB'), ('so', 'RB'), ('hard', 'RB'), ('a', 'DT'), ('promise', 'NN'), (',', ','), ('man', 'NN'), (',', ','), ('With', 'IN'), ('wine', 'NN'), ('and', 'CC'), ('woman', 'NN'), ('brimming', 'VBG'), ('o', 'JJ'), ('’', 'NNP'), ('er', 'NN'), ('with', 'IN'), ('laughter', 'NN'), ('!', '.'), ('O', 'NNP'), ('knotted', 'VBD'), ('locks', 'NNS'), (',', ','), ('filled', 'VBN'), ('like', 'IN'), ('a', 'DT'), ('flower', 'NN'), ('with', 'IN'), ('scent', 'NN'), (',', ','), ('How', 'WRB'), ('have', 'VBP'), ('you', 'PRP'), ('ravished', 'VBN'), ('this', 'DT'), ('poor', 'JJ'), ('penitent', 'NN'), ('!', '.'), ('Prairie', 'NNP'), ('winds', 'VBZ'), ('blaze', 'NN'), ('through', 'IN'), ('her', 'PRP$'), ('tumbled', 'JJ'), ('belly', 'RB'), (',', ','), ('and', 'CC'), ('Emmett', 'NNP'), ('’', 'NNP'), ('s', 'NN'), ('red', 'VBD'), ('yesterdays', 'NNS'), ('refuse', 'VB'), ('to', 'TO'), ('rename', 'VB'), ('her', 'PRP$'), ('any', 'DT'), ('kind', 'NN'), ('of', 'IN'), ('mother', 'NN'), ('.', '.'), ('A', 'DT'), ('pudge-cheeked', 'JJ'), ('otherwise', 'NN'), (',', ','), ('sugar', 'NN'), ('whistler', 'NN'), (',', ','), ('her', 'PRP$'), ('boy', 'NN'), ('is', 'VBZ'), ('(', '('), ('through', 'IN'), ('the', 'DT'), ('fierce', 'JJ'), ('clenching', 'VBG'), ('mouth', 'NN'), ('of', 'IN'), ('her', 'PRP$'), ('memory', 'NN'), (')', ')'), ('a', 'DT'), ('grays-and-shadows', 'JJ'), ('child', 'NN'), ('.', '.'), ('Listen', 'NNP'), ('.', '.'), ('Once', 'IN'), ('she', 'PRP'), ('was', 'VBD'), ('pretty', 'RB'), ('.', '.'), ('Windy', 'NNP'), ('hues', 'NNS'), ('goldened', 'VBD'), ('her', 'PRP$'), ('skin', 'NN'), ('.', '.'), ('She', 'PRP'), ('was', 'VBD'), ('pert', 'JJ'), (',', ','), ('brown-faced', 'JJ'), (',', ','), ('in', 'IN'), ('every', 'DT'), ('wide', 'JJ'), ('way', 'NN'), ('the', 'DT'), ('opposite', 'NN'), ('of', 'IN'), ('the', 'DT'), ('raw', 'JJ'), (',', ','), ('screeching', 'VBG'), ('thing', 'NN'), ('chaos', 'NN'), ('has', 'VBZ'), ('crafted', 'VBN'), ('.', '.'), ('Now', 'RB'), (',', ','), ('threaded', 'VBD'), ('awkwardly', 'RB'), (',', ','), ('she', 'PRP'), ('tires', 'VBZ'), ('of', 'IN'), ('the', 'DT'), ('sorries', 'NNS'), (',', ','), ('the', 'DT'), ('Lawd', 'NNP'), ('have', 'VBP'), ('mercies', 'NNS'), ('.', '.'), ('Grief', 'NNP'), ('’', 'NNP'), ('s', 'VBD'), ('damnable', 'JJ'), ('tint', 'NN'), ('is', 'VBZ'), ('everywhere', 'RB'), (',', ','), ('darkening', 'VBG'), ('days', 'NNS'), ('she', 'PRP'), ('is', 'VBZ'), ('no', 'RB'), ('longer', 'RBR'), ('aware', 'JJ'), ('of', 'IN'), ('.', '.'), ('She', 'PRP'), ('is', 'VBZ'), ('gospel', 'JJ'), ('revolving', 'VBG'), (',', ','), ('repeatedly', 'RB'), ('emptied', 'VBN'), ('of', 'IN'), ('light', 'NN'), (',', ','), ('pulled', 'VBD'), ('and', 'CC'), ('caressed', 'VBD'), (',', ','), ('cooed', 'VBN'), ('upon', 'IN'), ('by', 'IN'), ('strangers', 'NNS'), (',', ','), ('offered', 'VBN'), ('pork', 'NN'), ('and', 'CC'), ('taffy', 'NN'), ('.', '.'), ('Boys', 'NNP'), ('in', 'IN'), ('the', 'DT'), ('street', 'NN'), ('stare', 'NN'), ('at', 'IN'), ('her', 'PRP'), (',', ','), ('then', 'RB'), ('avert', 'VBP'), ('their', 'PRP$'), ('eyes', 'NNS'), (',', ','), ('as', 'IN'), ('if', 'IN'), ('she', 'PRP'), ('killed', 'VBD'), ('them', 'PRP'), ('all', 'DT'), (',', ','), ('shipped', 'VBD'), ('every', 'DT'), ('one', 'CD'), ('into', 'IN'), ('the', 'DT'), ('grips', 'NNS'), ('of', 'IN'), ('Delta', 'NNP'), ('.', '.'), ('She', 'PRP'), ('sits', 'VBZ'), (',', ','), ('her', 'PRP$'), ('chair', 'NN'), ('carefully', 'RB'), ('balanced', 'VBN'), ('on', 'IN'), ('hell', 'NN'), ('’', 'NNP'), ('s', 'NN'), ('edge', 'NN'), (',', ','), ('and', 'CC'), ('pays', 'NNS'), ('for', 'IN'), ('sanity', 'NN'), ('in', 'IN'), ('kisses', 'NNS'), ('upon', 'IN'), ('the', 'DT'), ('conjured', 'JJ'), ('forehead', 'NN'), ('of', 'IN'), ('her', 'PRP$'), ('son', 'NN'), ('.', '.'), ('Beginning', 'VBG'), ('with', 'IN'), ('A', 'NNP'), (',', ','), ('she', 'PRP'), ('recites', 'VBZ'), ('(', '('), ('angry', 'JJ'), (',', ','), ('away', 'RB'), (',', ','), ('awful', 'JJ'), (')', ')'), ('the', 'DT'), ('alphabet', 'NN'), ('of', 'IN'), ('a', 'DT'), ('world', 'NN'), ('gone', 'VBN'), ('red', 'JJ'), ('.', '.'), ('Coffee', 'NN'), ('scorches', 'VBZ'), ('her', 'PRP$'), ('throat', 'NN'), ('as', 'IN'), ('church', 'NN'), ('ladies', 'NNS'), ('drift', 'VBP'), ('about', 'IN'), ('her', 'PRP$'), ('room', 'NN'), (',', ','), ('black', 'JJ'), ('garb', 'NN'), ('sweating', 'VBG'), ('their', 'PRP$'), ('hips', 'NNS'), (',', ','), ('filling', 'VBG'), ('cups', 'NNS'), ('with', 'IN'), ('tap', 'JJ'), ('water', 'NN'), (',', ','), ('drinking', 'NN'), (',', ','), ('drinking', 'NN'), ('in', 'IN'), ('glimpses', 'NNS'), ('of', 'IN'), ('her', 'PRP$'), ('steep', 'JJ'), ('undoing', 'NN'), ('.', '.'), ('The', 'DT'), ('absence', 'NN'), ('of', 'IN'), ('a', 'DT'), ('black', 'JJ'), ('roomful', 'NN'), ('of', 'IN'), ('boy', 'NN'), ('is', 'VBZ'), ('measured', 'VBN'), (',', ','), ('again', 'RB'), (',', ','), ('again', 'RB'), ('.', '.'), ('In', 'IN'), ('the', 'DT'), ('clutches', 'NNS'), ('of', 'IN'), ('coffee', 'NN'), (',', ','), ('red-eyed', 'JJ'), (',', ','), ('Mamie', 'NNP'), ('knows', 'VBZ'), ('their', 'PRP$'), ('well-meaning', 'JJ'), ('murmur', 'NN'), ('.', '.'), ('One', 'CD'), ('says', 'VBZ'), ('She', 'PRP'), ('a', 'DT'), ('mama', 'NN'), (',', ','), ('still', 'RB'), ('.', '.'), ('Once', 'RB'), ('you', 'PRP'), ('have', 'VBP'), ('a', 'DT'), ('chile', 'NN'), (',', ','), ('you', 'PRP'), ('always', 'RB'), ('a', 'DT'), ('mama', 'NN'), ('.', '.'), ('Kisses', 'NNS'), ('in', 'IN'), ('multitudes', 'NNS'), ('rain', 'VBP'), ('from', 'IN'), ('their', 'PRP$'), ('dusty', 'JJ'), ('Baptist', 'NNP'), ('mouths', 'NNS'), (',', ','), ('drowning', 'VBG'), ('her', 'PRP$'), ('.', '.'), ('Sit', 'NNP'), ('still', 'RB'), (',', ','), ('she', 'PRP'), ('thinks', 'VBZ'), (',', ','), ('til', 'IN'), ('they', 'PRP'), ('remember', 'VBP'), ('how', 'WRB'), ('your', 'PRP$'), ('boy', 'NN'), ('was', 'VBD'), ('killed', 'VBN'), ('.', '.'), ('She', 'PRP'), ('remembers', 'VBZ'), ('.', '.'), ('Gush', 'NNP'), ('and', 'CC'), ('implosion', 'NN'), (',', ','), ('crushed', 'VBN'), (',', ','), ('slippery', 'NN'), (',', ','), ('not', 'RB'), ('a', 'DT'), ('boy', 'NN'), ('.', '.'), ('Taffeta', 'NNP'), ('and', 'CC'), ('hymnals', 'NNS'), ('all', 'PDT'), ('these', 'DT'), ('women', 'NNS'), ('know', 'VBP'), (',', ','), ('not', 'RB'), ('a', 'DT'), ('son', 'NN'), ('lost', 'VBN'), ('and', 'CC'), ('pulled', 'VBN'), ('from', 'IN'), ('the', 'DT'), ('wretched', 'VBN'), ('and', 'CC'), ('rumbling', 'VBG'), ('Tallahatchie', 'NNP'), ('.', '.'), ('Mamie', 'NNP'), (',', ','), ('she', 'PRP'), ('of', 'IN'), ('the', 'DT'), ('hollowed', 'JJ'), ('womb', 'NN'), (',', ','), ('is', 'VBZ'), ('nobody', 'JJ'), ('’', 'JJ'), ('s', 'NN'), ('mama', 'NN'), ('anymore', 'RB'), ('.', '.'), ('She', 'PRP'), ('is', 'VBZ'), ('tinted', 'JJ'), ('echo', 'NN'), (',', ','), ('barren', 'NN'), ('.', '.'), ('Everything', 'VBG'), ('about', 'IN'), ('her', 'PRP'), ('makes', 'VBZ'), ('the', 'DT'), ('sound', 'NN'), ('sorry', 'NN'), ('.', '.'), ('The', 'DT'), ('white', 'JJ'), ('man', 'NN'), ('’', 'NN'), ('s', 'JJ'), ('hands', 'NNS'), ('on', 'IN'), ('her', 'PRP'), ('child', 'NN'), (',', ','), ('dangled', 'VBD'), ('eye', 'NN'), (',', ','), ('twanging', 'VBG'), ('chaos', 'NN'), (',', ','), ('things', 'NNS'), ('that', 'IN'), ('she', 'PRP'), ('leans', 'VBZ'), ('on', 'IN'), (',', ','), ('the', 'DT'), ('only', 'JJ'), ('doors', 'NNS'), ('that', 'WDT'), ('open', 'VBP'), ('to', 'TO'), ('let', 'VB'), ('her', 'PRP$'), ('in', 'IN'), ('.', '.'), ('Faced', 'VBN'), ('with', 'IN'), ('days', 'NNS'), ('and', 'CC'), ('days', 'NNS'), ('of', 'IN'), ('no', 'DT'), ('him', 'PRP'), (',', ','), ('she', 'PRP'), ('lets', 'VBZ'), ('Chicago', 'NNP'), ('—', 'NNP'), ('windy', 'NN'), (',', ','), ('pretty', 'RB'), ('in', 'IN'), ('the', 'DT'), ('ways', 'NNS'), ('of', 'IN'), ('the', 'DT'), ('North', 'NNP'), ('—', 'NNP'), ('console', 'VBD'), ('her', 'PRP$'), ('with', 'IN'), ('its', 'PRP$'), ('boorish', 'JJ'), ('grays', 'NNS'), ('.', '.'), ('A', 'DT'), ('hug', 'NN'), (',', ','), ('more', 'JJR'), ('mourners', 'NNS'), ('and', 'CC'), ('platters', 'NNS'), ('of', 'IN'), ('fat', 'JJ'), ('meat', 'NN'), ('.', '.'), ('Will', 'MD'), ('she', 'PRP'), ('make', 'VB'), ('it', 'PRP'), ('through', 'IN'), ('?', '.'), ('Is', 'VBZ'), ('this', 'DT'), ('how', 'WRB'), ('the', 'DT'), ('face', 'NN'), ('slap', 'NN'), ('of', 'IN'), ('sorrow', 'NN'), ('changes', 'NNS'), ('the', 'DT'), ('shape', 'NN'), ('of', 'IN'), ('a', 'DT'), ('mother', 'NN'), ('?', '.'), ('All', 'PDT'), ('the', 'DT'), ('boys', 'NNS'), ('she', 'PRP'), ('sees', 'VBZ'), ('now', 'RB'), ('are', 'VBP'), ('laughing', 'VBG'), (',', ','), ('drenched', 'VBN'), ('in', 'IN'), ('red', 'JJ'), ('.', '.'), ('Emmett', 'NNP'), (',', ','), ('in', 'IN'), ('dreams', 'NNS'), (',', ','), ('sings', 'NNS'), ('I', 'PRP'), ('am', 'VBP'), ('gold', 'RB'), ('.', '.'), ('He', 'PRP'), ('tells', 'VBZ'), ('how', 'WRB'), ('dry', 'JJ'), ('it', 'PRP'), ('is', 'VBZ'), (',', ','), ('the', 'DT'), ('prairie', 'NN'), ('.', '.')]\n",
      "['filling' 'Mamie' 'if' 'the' 'the' 'privilege' 'sudden' 'dangled'\n",
      " 'asleep,' 'it' 'steep' 'pretty.Windy' 'wide' 'soft' 'red.Coffee' 'gospel'\n",
      " 'the' 'as' 'cups' 'in' 'was' 'crafted.' 'Half' 'wake!’And' 'her' 'of' 'a'\n",
      " 'recites' 'and' 'to' 'and' 'she' 'til' 'her,' 'sake,And' 'was' 'slips'\n",
      " 'about' 'white' 'room,black' 'hands' 'in' 'the' 'sanity' 'lost' 'her'\n",
      " 'poured' 'hymnals' 'pudge-cheeked' 'the' 'son.' 'the' 'brown-faced,in'\n",
      " 'her' 'forgiven.Ah!' 'of' 'and' 'screeching' 'Mamie,' 'pudge-cheeked'\n",
      " 'platters' 'pretty.Windy' 'dangled' 'amother?' 'dreams,' 'The' 'longer'\n",
      " 'you' 'her' 'lets' 'tap' 'divine' 'eyes,' 'how' 'in' 'tavern,' 'Who'\n",
      " 'naked' 'a' 'a' 'for' 'clutches' 'her' 'in.Faced' 'istinted' 'a' 'on'\n",
      " 'in' 'ways' 'such' 'lips;Narcissus-eyes' 'child.' 'from' 'Into' 'a'\n",
      " 'every' 'me' 'like' 'street' 'by' 'her' 'traitor' 'a' 'caressed,' 'lost'\n",
      " 'wake!’And' 'rumbling' 'she' 'dreaming' 'red.Emmett,' 'churlWho' 'light,'\n",
      " 'Will' 'she' 'more' 'Filled' 'clutches' 'in.Faced' 'her' 'son' 'her,'\n",
      " 'Kissesin' 'of' 'her' 'through' 'have' 'Shea' 'the' 'of' 'sorry.The'\n",
      " 'with' 'goldened' 'glass,' 'a' 'glimpses' 'wake!’And' 'chaos,things' 'I'\n",
      " 'were' 'about' 'do' 'thingchaos' 'as' 'Mamie,' 'Lawd' 'us,' 'sweating'\n",
      " 'she' 'HAFIZ,' 'to' 'cups' 'soft' 'with' 'and' 'little' 'slap' 'the'\n",
      " 'she' 'Everything' 'glimpses' 'they' 'with' 'wine' 'glass,' 'anymore.'\n",
      " 'not' 'eye,' 'drenched' 'absence' 'a' 'opposite' 'make' 'their' 'to'\n",
      " 'room,black' 'a' 'of' 'threaded' 'broke' 'Filled' 'stare' 'tilted' 'days'\n",
      " 'for' 'wine-red' 'she' 'the' 'but' 'repeatedly' 'locks,' 'my' 'She' 'her'\n",
      " 'whatever' 'one' 'night,']\n"
     ]
    }
   ],
   "source": [
    "input_poem = '''Last night, as half asleep I dreaming lay, Half naked came she in her little shift,\n",
    "    With tilted glass, and verses on her lips;\n",
    "Narcissus-eyes all shining for the fray,\n",
    "         Filled full of frolic to her wine-red lips,\n",
    "         Warm as a dewy rose, sudden she slips\n",
    "    Into my bed – just in her little shift.\n",
    "Said she, half naked, half asleep, half heard,\n",
    "With a soft sigh betwixt each lazy word,\n",
    "‘Oh my old lover, do you sleep or wake!’\n",
    "And instant I sat upright for her sake,\n",
    "And drank whatever wine she poured for me –\n",
    "Wine of the tavern, or vintage it might be\n",
    "Of Heaven’s own vine: he surely were a churl\n",
    "Who refused wine poured out by such a girl,\n",
    "A double traitor he to wine and love.\n",
    "Go to, thou puritan! the gods above\n",
    "Ordained this wine for us, but not for thee;\n",
    "Drunkards we are by a divine decree,\n",
    "Yea, by the special privilege of heaven\n",
    "Foredoomed to drink and foreordained forgiven.\n",
    "Ah! HAFIZ, you are not the only man\n",
    "    Who promised penitence and broke down after;\n",
    "For who can keep so hard a promise, man,\n",
    "    With wine and woman brimming o’er with laughter!\n",
    "O knotted locks, filled like a flower with scent,\n",
    "How have you ravished this poor penitent!\n",
    "\n",
    "\n",
    "Prairie winds blaze through her tumbled belly, and Emmett’s\n",
    "red yesterdays refuse to rename her any kind of mother.\n",
    "A pudge-cheeked otherwise, sugar whistler, her boy is\n",
    "(through the fierce clenching mouth of her memory) a\n",
    "grays-and-shadows child. Listen. Once she was pretty.\n",
    "Windy hues goldened her skin. She was pert, brown-faced,\n",
    "in every wide way the opposite of the raw, screeching thing\n",
    "chaos has crafted. Now, threaded awkwardly, she tires of the\n",
    "sorries, the Lawd have mercies. Grief’s damnable tint\n",
    "is everywhere, darkening days she is no longer aware of.\n",
    "She is gospel revolving, repeatedly emptied of light, pulled\n",
    "and caressed, cooed upon by strangers, offered pork and taffy.\n",
    "Boys in the street stare at her, then avert their eyes, as if she\n",
    "killed them all, shipped every one into the grips of Delta. She sits,\n",
    "her chair carefully balanced on hell’s edge, and pays for sanity in\n",
    "kisses upon the conjured forehead of her son. Beginning with A,\n",
    "she recites (angry, away, awful) the alphabet of a world gone red.\n",
    "Coffee scorches her throat as church ladies drift about her room,\n",
    "black garb sweating their hips, filling cups with tap water, drinking,\n",
    "drinking in glimpses of her steep undoing. The absence of a black\n",
    "roomful of boy is measured, again, again. In the clutches of coffee,\n",
    "red-eyed, Mamie knows their well-meaning murmur. One says She\n",
    "a mama, still. Once you have a chile, you always a mama. Kisses\n",
    "in multitudes rain from their dusty Baptist mouths, drowning her.\n",
    "Sit still, she thinks, til they remember how your boy was killed.\n",
    "She remembers. Gush and implosion, crushed, slippery, not a boy.\n",
    "Taffeta and hymnals all these women know, not a son lost and\n",
    "pulled from the wretched and rumbling Tallahatchie. Mamie, she\n",
    "of the hollowed womb, is nobody’s mama anymore. She is\n",
    "tinted echo, barren. Everything about her makes the sound sorry.\n",
    "The white man’s hands on her child, dangled eye, twanging chaos,\n",
    "things that she leans on, the only doors that open to let her in.\n",
    "Faced with days and days of no him, she lets Chicago — windy,\n",
    "pretty in the ways of the North — console her with its boorish grays.\n",
    "A hug, more mourners and platters of fat meat. Will she make it through?\n",
    "Is this how the face slap of sorrow changes the shape of a\n",
    "mother? All the boys she sees now are laughing, drenched in red.\n",
    "Emmett, in dreams, sings I am gold. He tells how dry it is, the prairie.'''\n",
    "\n",
    "tkn_poem = nltk.word_tokenize(input_poem)\n",
    "tkn_poem = nltk.pos_tag(tkn_poem)\n",
    "print(tkn_poem)\n",
    "\n",
    "input_poem = input_poem.split(sep=' ')\n",
    "for i in range(len(input_poem)):\n",
    "    s = input_poem[i].replace('\\n','')\n",
    "    input_poem[i] = s\n",
    "poem_np = np.array(input_poem)\n",
    "(unique, counts) = np.unique(poem_np,return_counts=True)\n",
    "word_frequencies = np.array((unique,counts)).T\n",
    "word_frequencies = word_frequencies[1:np.shape(word_frequencies)[0],:]\n",
    "word_count = np.sum(word_frequencies[:,1].astype(np.float))\n",
    "word_frequencies[:,1] = word_frequencies[:,1].astype(np.float)/word_count\n",
    "#prob_sum = np.sum(word_frequencies[:,1].astype(np.float))\n",
    "\n",
    "poem = np.random.choice(word_frequencies[:,0],14*14,p=word_frequencies[:,1].astype(float))\n",
    "print(poem)\n",
    "\n",
    "## How to write a poem ##\n",
    "## Take a poem, or two, or three ##\n",
    "### Convert it to a list of words ##\n",
    "### Get the probability of each word appearing ##\n",
    "### Remove duplicates from the list ###\n",
    "#######################################\n",
    "###What I want to do ###\n",
    "### Pick words based on popularity ###\n",
    "### control sentence structure based on word type (verb, preposition,noun,adjective, article, etc)###\n",
    "### add rhyme ###\n"
   ]
  },
  {
   "cell_type": "code",
   "execution_count": null,
   "metadata": {},
   "outputs": [],
   "source": []
  }
 ],
 "metadata": {
  "kernelspec": {
   "display_name": "Python 3",
   "language": "python",
   "name": "python3"
  },
  "language_info": {
   "codemirror_mode": {
    "name": "ipython",
    "version": 3
   },
   "file_extension": ".py",
   "mimetype": "text/x-python",
   "name": "python",
   "nbconvert_exporter": "python",
   "pygments_lexer": "ipython3",
   "version": "3.7.6"
  }
 },
 "nbformat": 4,
 "nbformat_minor": 4
}
